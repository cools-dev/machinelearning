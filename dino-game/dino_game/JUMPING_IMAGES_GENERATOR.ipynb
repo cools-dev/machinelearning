{
 "cells": [
  {
   "cell_type": "code",
   "execution_count": 1,
   "metadata": {},
   "outputs": [],
   "source": [
    "import cv2\n",
    "import numpy as np\n",
    "from time import sleep\n",
    "\n",
    "i = 0\n",
    "   \n",
    "cap = cv2.VideoCapture(0)\n",
    "directory = 'C:/Users/joaovitor/Desktop/Frames'\n",
    "\n",
    "while True:\n",
    "    sucess, img = cap.read()\n",
    "    \n",
    "    if sucess:\n",
    "        gray = cv2.cvtColor(img, cv2.COLOR_BGR2GRAY)\n",
    "        imgCanny = cv2.Canny(gray, 155, 105)\n",
    "        \n",
    "        cv2.imwrite(f'{directory}/image_{i}.png', imgCanny)\n",
    "        \n",
    "        i += 1\n",
    "        \n",
    "        cv2.imshow('Canny', imgCanny)\n",
    "        \n",
    "        sleep(0.25)\n",
    "        \n",
    "        if cv2.waitKey(1) & 0xff == ord('q'):\n",
    "            break\n",
    "    else:\n",
    "        break\n",
    "        \n",
    "\n",
    "#Release everything if job is finished\n",
    "cap.release()\n",
    "cv2.destroyAllWindows()"
   ]
  }
 ],
 "metadata": {
  "kernelspec": {
   "display_name": "Python 3",
   "language": "python",
   "name": "python3"
  },
  "language_info": {
   "codemirror_mode": {
    "name": "ipython",
    "version": 3
   },
   "file_extension": ".py",
   "mimetype": "text/x-python",
   "name": "python",
   "nbconvert_exporter": "python",
   "pygments_lexer": "ipython3",
   "version": "3.8.3"
  }
 },
 "nbformat": 4,
 "nbformat_minor": 4
}
